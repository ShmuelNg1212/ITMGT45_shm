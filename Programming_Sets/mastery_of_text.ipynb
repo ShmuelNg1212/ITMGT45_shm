{
 "cells": [
  {
   "cell_type": "code",
   "execution_count": 6,
   "id": "7f199e7f-5d49-43e7-8815-c9caf26969a1",
   "metadata": {},
   "outputs": [],
   "source": [
    "import urllib.request\n",
    "import re\n",
    "from collections import Counter\n",
    "\n",
    "url = \"https://www.gutenberg.org/cache/epub/10/pg10.txt\"\n",
    "response = urllib.request.urlopen(url)\n",
    "pg10 = response.read().decode(\"utf-8\")"
   ]
  },
  {
   "cell_type": "code",
   "execution_count": 8,
   "id": "08f22abf-e699-4f19-ad8a-595b9cd8623e",
   "metadata": {},
   "outputs": [
    {
     "data": {
      "text/plain": [
       "99968"
      ]
     },
     "execution_count": 8,
     "metadata": {},
     "output_type": "execute_result"
    }
   ],
   "source": [
    "num_lines = len(pg10.splitlines())\n",
    "num_lines"
   ]
  },
  {
   "cell_type": "code",
   "execution_count": 9,
   "id": "467e443f-a22a-4a39-886f-1a904e73d632",
   "metadata": {},
   "outputs": [
    {
     "data": {
      "text/plain": [
       "795227"
      ]
     },
     "execution_count": 9,
     "metadata": {},
     "output_type": "execute_result"
    }
   ],
   "source": [
    "words = re.findall(r\"[A-Za-z]+\", pg10)\n",
    "num_words = len(words)\n",
    "num_words"
   ]
  },
  {
   "cell_type": "code",
   "execution_count": 10,
   "id": "13e6897c-35c0-4c66-bbe2-5e7b9a3fa5db",
   "metadata": {},
   "outputs": [
    {
     "data": {
      "text/plain": [
       "47"
      ]
     },
     "execution_count": 10,
     "metadata": {},
     "output_type": "execute_result"
    }
   ],
   "source": [
    "apostle_count = sum(1 for w in words if w.lower() == \"apostle\")\n",
    "apostle_count"
   ]
  },
  {
   "cell_type": "code",
   "execution_count": 11,
   "id": "78a30b6b-043c-4df5-af03-5fd0e5f11a4f",
   "metadata": {},
   "outputs": [
    {
     "data": {
      "text/plain": [
       "('the', 64309)"
      ]
     },
     "execution_count": 11,
     "metadata": {},
     "output_type": "execute_result"
    }
   ],
   "source": [
    "words_lower = [w.lower() for w in words]\n",
    "counter = Counter(words_lower)\n",
    "most_common_word, freq = counter.most_common(1)[0]\n",
    "most_common_word, freq"
   ]
  }
 ],
 "metadata": {
  "kernelspec": {
   "display_name": "Python [conda env:base] *",
   "language": "python",
   "name": "conda-base-py"
  },
  "language_info": {
   "codemirror_mode": {
    "name": "ipython",
    "version": 3
   },
   "file_extension": ".py",
   "mimetype": "text/x-python",
   "name": "python",
   "nbconvert_exporter": "python",
   "pygments_lexer": "ipython3",
   "version": "3.13.5"
  }
 },
 "nbformat": 4,
 "nbformat_minor": 5
}
